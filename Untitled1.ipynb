{
 "cells": [
  {
   "cell_type": "code",
   "execution_count": 2,
   "id": "513367e9-d4d9-4f60-b0df-1195b2d7226a",
   "metadata": {},
   "outputs": [],
   "source": [
    "# compare machine learning algorithms on the sonar classification dataset\n",
    "from pandas import read_csv\n",
    "\n",
    "\n",
    "# define the location of the dataset\n",
    "url = 'https://raw.githubusercontent.com/jbrownlee/Datasets/master/sonar.csv'\n",
    "# load the dataset\n",
    "df = read_csv(url, header=None)"
   ]
  },
  {
   "cell_type": "code",
   "execution_count": 7,
   "id": "4ac94dbf-1df3-43dc-b7e4-5dbe6b637721",
   "metadata": {},
   "outputs": [
    {
     "data": {
      "text/plain": [
       "0      R\n",
       "1      R\n",
       "2      R\n",
       "3      R\n",
       "4      R\n",
       "      ..\n",
       "203    M\n",
       "204    M\n",
       "205    M\n",
       "206    M\n",
       "207    M\n",
       "Name: 60, Length: 208, dtype: object"
      ]
     },
     "execution_count": 7,
     "metadata": {},
     "output_type": "execute_result"
    }
   ],
   "source": []
  },
  {
   "cell_type": "code",
   "execution_count": null,
   "id": "8e589c2c-9c5c-4656-890b-3b1b8ae4d221",
   "metadata": {},
   "outputs": [],
   "source": []
  }
 ],
 "metadata": {
  "kernelspec": {
   "display_name": "Python 3 (ipykernel)",
   "language": "python",
   "name": "python3"
  },
  "language_info": {
   "codemirror_mode": {
    "name": "ipython",
    "version": 3
   },
   "file_extension": ".py",
   "mimetype": "text/x-python",
   "name": "python",
   "nbconvert_exporter": "python",
   "pygments_lexer": "ipython3",
   "version": "3.9.12"
  }
 },
 "nbformat": 4,
 "nbformat_minor": 5
}
