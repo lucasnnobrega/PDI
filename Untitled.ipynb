{
 "cells": [
  {
   "cell_type": "code",
   "execution_count": 1,
   "id": "07b231b8-f370-4ae2-9263-c4fceb0c3906",
   "metadata": {},
   "outputs": [],
   "source": [
    "import pandas as pd"
   ]
  },
  {
   "cell_type": "code",
   "execution_count": 2,
   "id": "227296f4-2516-4d93-bce8-59803feb5f63",
   "metadata": {},
   "outputs": [],
   "source": [
    "import tensorflow"
   ]
  },
  {
   "cell_type": "code",
   "execution_count": 3,
   "id": "963f7800-f6de-416d-886b-d79494391348",
   "metadata": {},
   "outputs": [],
   "source": [
    "with open(\"gestures.txt\",\"r\") as file:\n",
    "    a = file.read()"
   ]
  },
  {
   "cell_type": "code",
   "execution_count": null,
   "id": "e3186398-1a27-435e-8311-5c39d0fc03c3",
   "metadata": {},
   "outputs": [],
   "source": []
  },
  {
   "cell_type": "code",
   "execution_count": 4,
   "id": "884cad8f-2b9c-46c1-ab77-a86ebd26bcbd",
   "metadata": {},
   "outputs": [],
   "source": [
    "dataframe = pd.read_csv(\"gestures_v3.txt\", names=[\"timestamp\", \"id\", \"x\", \"y\", \"z\"])"
   ]
  },
  {
   "cell_type": "code",
   "execution_count": 5,
   "id": "d78d7d5d-d4ac-45c4-9809-eb0a7fc5e26c",
   "metadata": {},
   "outputs": [
    {
     "data": {
      "text/html": [
       "<div>\n",
       "<style scoped>\n",
       "    .dataframe tbody tr th:only-of-type {\n",
       "        vertical-align: middle;\n",
       "    }\n",
       "\n",
       "    .dataframe tbody tr th {\n",
       "        vertical-align: top;\n",
       "    }\n",
       "\n",
       "    .dataframe thead th {\n",
       "        text-align: right;\n",
       "    }\n",
       "</style>\n",
       "<table border=\"1\" class=\"dataframe\">\n",
       "  <thead>\n",
       "    <tr style=\"text-align: right;\">\n",
       "      <th></th>\n",
       "      <th>timestamp</th>\n",
       "      <th>id</th>\n",
       "      <th>x</th>\n",
       "      <th>y</th>\n",
       "      <th>z</th>\n",
       "    </tr>\n",
       "  </thead>\n",
       "  <tbody>\n",
       "    <tr>\n",
       "      <th>0</th>\n",
       "      <td>1.649159e+09</td>\n",
       "      <td>0</td>\n",
       "      <td>0.396375</td>\n",
       "      <td>0.563851</td>\n",
       "      <td>2.121102e-08</td>\n",
       "    </tr>\n",
       "    <tr>\n",
       "      <th>1</th>\n",
       "      <td>1.649159e+09</td>\n",
       "      <td>1</td>\n",
       "      <td>0.455582</td>\n",
       "      <td>0.592571</td>\n",
       "      <td>-5.635327e-02</td>\n",
       "    </tr>\n",
       "    <tr>\n",
       "      <th>2</th>\n",
       "      <td>1.649159e+09</td>\n",
       "      <td>2</td>\n",
       "      <td>0.514503</td>\n",
       "      <td>0.578459</td>\n",
       "      <td>-1.042597e-01</td>\n",
       "    </tr>\n",
       "    <tr>\n",
       "      <th>3</th>\n",
       "      <td>1.649159e+09</td>\n",
       "      <td>3</td>\n",
       "      <td>0.543818</td>\n",
       "      <td>0.554857</td>\n",
       "      <td>-1.404577e-01</td>\n",
       "    </tr>\n",
       "    <tr>\n",
       "      <th>4</th>\n",
       "      <td>1.649159e+09</td>\n",
       "      <td>4</td>\n",
       "      <td>0.561579</td>\n",
       "      <td>0.544160</td>\n",
       "      <td>-1.770541e-01</td>\n",
       "    </tr>\n",
       "    <tr>\n",
       "      <th>5</th>\n",
       "      <td>1.649159e+09</td>\n",
       "      <td>5</td>\n",
       "      <td>0.534640</td>\n",
       "      <td>0.493713</td>\n",
       "      <td>-1.444079e-01</td>\n",
       "    </tr>\n",
       "    <tr>\n",
       "      <th>6</th>\n",
       "      <td>1.649159e+09</td>\n",
       "      <td>6</td>\n",
       "      <td>0.576380</td>\n",
       "      <td>0.459864</td>\n",
       "      <td>-1.855711e-01</td>\n",
       "    </tr>\n",
       "    <tr>\n",
       "      <th>7</th>\n",
       "      <td>1.649159e+09</td>\n",
       "      <td>7</td>\n",
       "      <td>0.559491</td>\n",
       "      <td>0.458593</td>\n",
       "      <td>-2.018049e-01</td>\n",
       "    </tr>\n",
       "    <tr>\n",
       "      <th>8</th>\n",
       "      <td>1.649159e+09</td>\n",
       "      <td>8</td>\n",
       "      <td>0.534929</td>\n",
       "      <td>0.475916</td>\n",
       "      <td>-2.150140e-01</td>\n",
       "    </tr>\n",
       "    <tr>\n",
       "      <th>9</th>\n",
       "      <td>1.649159e+09</td>\n",
       "      <td>9</td>\n",
       "      <td>0.486221</td>\n",
       "      <td>0.429018</td>\n",
       "      <td>-1.356219e-01</td>\n",
       "    </tr>\n",
       "    <tr>\n",
       "      <th>10</th>\n",
       "      <td>1.649159e+09</td>\n",
       "      <td>10</td>\n",
       "      <td>0.503868</td>\n",
       "      <td>0.357153</td>\n",
       "      <td>-1.844554e-01</td>\n",
       "    </tr>\n",
       "    <tr>\n",
       "      <th>11</th>\n",
       "      <td>1.649159e+09</td>\n",
       "      <td>11</td>\n",
       "      <td>0.506908</td>\n",
       "      <td>0.319651</td>\n",
       "      <td>-2.094823e-01</td>\n",
       "    </tr>\n",
       "    <tr>\n",
       "      <th>12</th>\n",
       "      <td>1.649159e+09</td>\n",
       "      <td>12</td>\n",
       "      <td>0.519664</td>\n",
       "      <td>0.293862</td>\n",
       "      <td>-2.333433e-01</td>\n",
       "    </tr>\n",
       "    <tr>\n",
       "      <th>13</th>\n",
       "      <td>1.649159e+09</td>\n",
       "      <td>13</td>\n",
       "      <td>0.432144</td>\n",
       "      <td>0.393366</td>\n",
       "      <td>-1.226422e-01</td>\n",
       "    </tr>\n",
       "    <tr>\n",
       "      <th>14</th>\n",
       "      <td>1.649159e+09</td>\n",
       "      <td>14</td>\n",
       "      <td>0.439129</td>\n",
       "      <td>0.309549</td>\n",
       "      <td>-1.643592e-01</td>\n",
       "    </tr>\n",
       "    <tr>\n",
       "      <th>15</th>\n",
       "      <td>1.649159e+09</td>\n",
       "      <td>15</td>\n",
       "      <td>0.442314</td>\n",
       "      <td>0.270593</td>\n",
       "      <td>-1.879087e-01</td>\n",
       "    </tr>\n",
       "    <tr>\n",
       "      <th>16</th>\n",
       "      <td>1.649159e+09</td>\n",
       "      <td>16</td>\n",
       "      <td>0.454547</td>\n",
       "      <td>0.240210</td>\n",
       "      <td>-2.097508e-01</td>\n",
       "    </tr>\n",
       "    <tr>\n",
       "      <th>17</th>\n",
       "      <td>1.649159e+09</td>\n",
       "      <td>17</td>\n",
       "      <td>0.380004</td>\n",
       "      <td>0.380881</td>\n",
       "      <td>-1.116070e-01</td>\n",
       "    </tr>\n",
       "    <tr>\n",
       "      <th>18</th>\n",
       "      <td>1.649159e+09</td>\n",
       "      <td>18</td>\n",
       "      <td>0.350588</td>\n",
       "      <td>0.316942</td>\n",
       "      <td>-1.423564e-01</td>\n",
       "    </tr>\n",
       "    <tr>\n",
       "      <th>19</th>\n",
       "      <td>1.649159e+09</td>\n",
       "      <td>19</td>\n",
       "      <td>0.329567</td>\n",
       "      <td>0.281169</td>\n",
       "      <td>-1.569934e-01</td>\n",
       "    </tr>\n",
       "    <tr>\n",
       "      <th>20</th>\n",
       "      <td>1.649159e+09</td>\n",
       "      <td>20</td>\n",
       "      <td>0.323892</td>\n",
       "      <td>0.250129</td>\n",
       "      <td>-1.725810e-01</td>\n",
       "    </tr>\n",
       "    <tr>\n",
       "      <th>21</th>\n",
       "      <td>1.649159e+09</td>\n",
       "      <td>0</td>\n",
       "      <td>0.377959</td>\n",
       "      <td>0.654473</td>\n",
       "      <td>1.759269e-08</td>\n",
       "    </tr>\n",
       "  </tbody>\n",
       "</table>\n",
       "</div>"
      ],
      "text/plain": [
       "       timestamp  id         x         y             z\n",
       "0   1.649159e+09   0  0.396375  0.563851  2.121102e-08\n",
       "1   1.649159e+09   1  0.455582  0.592571 -5.635327e-02\n",
       "2   1.649159e+09   2  0.514503  0.578459 -1.042597e-01\n",
       "3   1.649159e+09   3  0.543818  0.554857 -1.404577e-01\n",
       "4   1.649159e+09   4  0.561579  0.544160 -1.770541e-01\n",
       "5   1.649159e+09   5  0.534640  0.493713 -1.444079e-01\n",
       "6   1.649159e+09   6  0.576380  0.459864 -1.855711e-01\n",
       "7   1.649159e+09   7  0.559491  0.458593 -2.018049e-01\n",
       "8   1.649159e+09   8  0.534929  0.475916 -2.150140e-01\n",
       "9   1.649159e+09   9  0.486221  0.429018 -1.356219e-01\n",
       "10  1.649159e+09  10  0.503868  0.357153 -1.844554e-01\n",
       "11  1.649159e+09  11  0.506908  0.319651 -2.094823e-01\n",
       "12  1.649159e+09  12  0.519664  0.293862 -2.333433e-01\n",
       "13  1.649159e+09  13  0.432144  0.393366 -1.226422e-01\n",
       "14  1.649159e+09  14  0.439129  0.309549 -1.643592e-01\n",
       "15  1.649159e+09  15  0.442314  0.270593 -1.879087e-01\n",
       "16  1.649159e+09  16  0.454547  0.240210 -2.097508e-01\n",
       "17  1.649159e+09  17  0.380004  0.380881 -1.116070e-01\n",
       "18  1.649159e+09  18  0.350588  0.316942 -1.423564e-01\n",
       "19  1.649159e+09  19  0.329567  0.281169 -1.569934e-01\n",
       "20  1.649159e+09  20  0.323892  0.250129 -1.725810e-01\n",
       "21  1.649159e+09   0  0.377959  0.654473  1.759269e-08"
      ]
     },
     "execution_count": 5,
     "metadata": {},
     "output_type": "execute_result"
    }
   ],
   "source": [
    "dataframe.head(22)"
   ]
  },
  {
   "cell_type": "code",
   "execution_count": 6,
   "id": "8cd15fda-49a5-4203-974c-7ec75744467c",
   "metadata": {},
   "outputs": [
    {
     "data": {
      "text/plain": [
       "array([1.64915869e+09, 1.64915869e+09, 1.64915869e+09, 1.64915869e+09,\n",
       "       1.64915869e+09, 1.64915869e+09, 1.64915869e+09, 1.64915869e+09,\n",
       "       1.64915869e+09, 1.64915869e+09, 1.64915869e+09, 1.64915869e+09,\n",
       "       1.64915869e+09, 1.64915869e+09, 1.64915869e+09, 1.64915869e+09,\n",
       "       1.64915869e+09, 1.64915869e+09, 1.64915869e+09, 1.64915869e+09,\n",
       "       1.64915869e+09, 1.64915869e+09, 1.64915869e+09, 1.64915869e+09,\n",
       "       1.64915869e+09, 1.64915869e+09, 1.64915869e+09, 1.64915869e+09,\n",
       "       1.64915869e+09, 1.64915869e+09, 1.64915869e+09, 1.64915869e+09,\n",
       "       1.64915869e+09, 1.64915869e+09, 1.64915869e+09, 1.64915869e+09,\n",
       "       1.64915869e+09, 1.64915869e+09, 1.64915869e+09, 1.64915869e+09,\n",
       "       1.64915869e+09, 1.64915869e+09, 1.64915869e+09, 1.64915869e+09,\n",
       "       1.64915869e+09, 1.64915869e+09, 1.64915869e+09, 1.64915869e+09,\n",
       "       1.64915869e+09, 1.64915869e+09, 1.64915869e+09, 1.64915869e+09,\n",
       "       1.64915869e+09, 1.64915869e+09, 1.64915869e+09, 1.64915869e+09,\n",
       "       1.64915869e+09, 1.64915869e+09, 1.64915869e+09, 1.64915869e+09,\n",
       "       1.64915869e+09, 1.64915869e+09, 1.64915869e+09, 1.64915869e+09,\n",
       "       1.64915869e+09, 1.64915869e+09, 1.64915869e+09, 1.64915869e+09,\n",
       "       1.64915869e+09, 1.64915869e+09, 1.64915869e+09, 1.64915869e+09,\n",
       "       1.64915869e+09, 1.64915869e+09, 1.64915869e+09, 1.64915869e+09,\n",
       "       1.64915869e+09, 1.64915869e+09, 1.64915869e+09, 1.64915869e+09,\n",
       "       1.64915869e+09, 1.64915869e+09, 1.64915869e+09, 1.64915869e+09,\n",
       "       1.64915869e+09, 1.64915869e+09, 1.64915869e+09, 1.64915869e+09,\n",
       "       1.64915869e+09, 1.64915869e+09, 1.64915869e+09, 1.64915869e+09,\n",
       "       1.64915869e+09, 1.64915869e+09, 1.64915869e+09, 1.64915869e+09,\n",
       "       1.64915869e+09, 1.64915869e+09, 1.64915869e+09, 1.64915869e+09,\n",
       "       1.64915869e+09, 1.64915869e+09, 1.64915869e+09, 1.64915869e+09,\n",
       "       1.64915869e+09, 1.64915869e+09, 1.64915869e+09, 1.64915869e+09,\n",
       "       1.64915869e+09, 1.64915869e+09, 1.64915869e+09, 1.64915869e+09,\n",
       "       1.64915869e+09, 1.64915869e+09])"
      ]
     },
     "execution_count": 6,
     "metadata": {},
     "output_type": "execute_result"
    }
   ],
   "source": [
    "dataframe.timestamp.unique()"
   ]
  },
  {
   "cell_type": "code",
   "execution_count": 7,
   "id": "6cbf720d-c525-4456-8c76-301d70d5223b",
   "metadata": {},
   "outputs": [],
   "source": [
    "import matplotlib.pyplot as plt "
   ]
  },
  {
   "cell_type": "code",
   "execution_count": 8,
   "id": "9b84e981-c45c-451b-b2f9-e634c538e07f",
   "metadata": {},
   "outputs": [
    {
     "data": {
      "text/plain": [
       "(0     0.396375\n",
       " 1     0.455582\n",
       " 2     0.514503\n",
       " 3     0.543818\n",
       " 4     0.561579\n",
       " 5     0.534640\n",
       " 6     0.576380\n",
       " 7     0.559491\n",
       " 8     0.534929\n",
       " 9     0.486221\n",
       " 10    0.503868\n",
       " 11    0.506908\n",
       " 12    0.519664\n",
       " 13    0.432144\n",
       " 14    0.439129\n",
       " 15    0.442314\n",
       " 16    0.454547\n",
       " 17    0.380004\n",
       " 18    0.350588\n",
       " 19    0.329567\n",
       " 20    0.323892\n",
       " Name: x, dtype: float64,\n",
       " 0     0.563851\n",
       " 1     0.592571\n",
       " 2     0.578459\n",
       " 3     0.554857\n",
       " 4     0.544160\n",
       " 5     0.493713\n",
       " 6     0.459864\n",
       " 7     0.458593\n",
       " 8     0.475916\n",
       " 9     0.429018\n",
       " 10    0.357153\n",
       " 11    0.319651\n",
       " 12    0.293862\n",
       " 13    0.393366\n",
       " 14    0.309549\n",
       " 15    0.270593\n",
       " 16    0.240210\n",
       " 17    0.380881\n",
       " 18    0.316942\n",
       " 19    0.281169\n",
       " 20    0.250129\n",
       " Name: y, dtype: float64)"
      ]
     },
     "execution_count": 8,
     "metadata": {},
     "output_type": "execute_result"
    }
   ],
   "source": [
    "dataframe.x[0:21], dataframe.y[0:21] "
   ]
  },
  {
   "cell_type": "code",
   "execution_count": 9,
   "id": "9d938d93-f762-47c8-a1b1-65fddd567873",
   "metadata": {},
   "outputs": [
    {
     "data": {
      "text/plain": [
       "[<matplotlib.lines.Line2D at 0x7fa066a2bcc0>]"
      ]
     },
     "execution_count": 9,
     "metadata": {},
     "output_type": "execute_result"
    },
    {
     "data": {
      "image/png": "[encoded data removed]",
      "text/plain": [
       "<Figure size 432x288 with 1 Axes>"
      ]
     },
     "metadata": {
      "needs_background": "light"
     },
     "output_type": "display_data"
    }
   ],
   "source": [
    "plt.plot(dataframe.x[0:21], dataframe.y[0:21])"
   ]
  },
  {
   "cell_type": "code",
   "execution_count": 10,
   "id": "0f3f9d27-26ba-4b3a-ab1b-e31e5233208f",
   "metadata": {},
   "outputs": [
    {
     "data": {
      "image/png": "[encoded data removed]",
      "text/plain": [
       "<Figure size 432x288 with 2 Axes>"
      ]
     },
     "metadata": {
      "needs_background": "light"
     },
     "output_type": "display_data"
    }
   ],
   "source": [
    "# creating graph space for two graphs\n",
    "graph, (plot1, plot2) = plt.subplots(1, 2)\n",
    " \n",
    "# plot1 graph for normal axes\n",
    "plot1.scatter(dataframe.x[0:21], dataframe.y[0:21])\n",
    "plot1.set_title(\"Normal Plot\")\n",
    " \n",
    "# plot2 graph for inverted axes\n",
    "plot2.scatter(dataframe.x[0:21], dataframe.y[0:21])\n",
    "plot2.set_title(\"Inverted Plot\")\n",
    "plot2.invert_xaxis()\n",
    "plot2.invert_yaxis()"
   ]
  },
  {
   "cell_type": "code",
   "execution_count": 11,
   "id": "47b7be41-acad-45ba-bdd7-2ca999f31bf3",
   "metadata": {},
   "outputs": [
    {
     "data": {
      "image/png": "[encoded data removed]",
      "text/plain": [
       "<Figure size 432x288 with 2 Axes>"
      ]
     },
     "metadata": {
      "needs_background": "light"
     },
     "output_type": "display_data"
    }
   ],
   "source": [
    "# creating graph space for two graphs\n",
    "graph, (plot1, plot2) = plt.subplots(1, 2)\n",
    " \n",
    "# plot1 graph for normal axes\n",
    "plot1.scatter(dataframe.x[21:42], dataframe.y[21:42])\n",
    "plot1.set_title(\"Normal Plot\")\n",
    " \n",
    "# plot2 graph for inverted axes\n",
    "plot2.scatter(dataframe.x[21:42], dataframe.y[21:42])\n",
    "plot2.set_title(\"Inverted Plot\")\n",
    "plot2.invert_xaxis()\n",
    "plot2.invert_yaxis()"
   ]
  },
  {
   "cell_type": "code",
   "execution_count": 12,
   "id": "a7d9d768-a549-41ba-b0a8-1f99b79b41c9",
   "metadata": {},
   "outputs": [
    {
     "data": {
      "image/png": "[encoded data removed]",
      "text/plain": [
       "<Figure size 432x288 with 2 Axes>"
      ]
     },
     "metadata": {
      "needs_background": "light"
     },
     "output_type": "display_data"
    }
   ],
   "source": [
    "# creating graph space for two graphs\n",
    "graph, (plot1, plot2) = plt.subplots(1, 2)\n",
    " \n",
    "# plot1 graph for normal axes\n",
    "plot1.scatter(dataframe.x[21*3:42*3], dataframe.y[21*3:42*3])\n",
    "plot1.set_title(\"Normal Plot\")\n",
    " \n",
    "# plot2 graph for inverted axes\n",
    "plot2.scatter(dataframe.x[21*3:42*3], dataframe.y[21*3:42*3])\n",
    "plot2.set_title(\"Inverted Plot\")\n",
    "plot2.invert_xaxis()\n",
    "plot2.invert_yaxis()"
   ]
  },
  {
   "cell_type": "code",
   "execution_count": null,
   "id": "9f03ac9d-6649-4c4d-9095-a8177a1026ad",
   "metadata": {},
   "outputs": [],
   "source": []
  }
 ],
 "metadata": {
  "kernelspec": {
   "display_name": "Python 3 (ipykernel)",
   "language": "python",
   "name": "python3"
  },
  "language_info": {
   "codemirror_mode": {
    "name": "ipython",
    "version": 3
   },
   "file_extension": ".py",
   "mimetype": "text/x-python",
   "name": "python",
   "nbconvert_exporter": "python",
   "pygments_lexer": "ipython3",
   "version": "3.9.5"
  }
 },
 "nbformat": 4,
 "nbformat_minor": 5
}
